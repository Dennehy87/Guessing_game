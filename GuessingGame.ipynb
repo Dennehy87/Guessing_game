{
 "cells": [
  {
   "cell_type": "code",
   "execution_count": 9,
   "id": "4d313b20-bd2e-4f60-9b60-48aaa0e6a4cd",
   "metadata": {},
   "outputs": [
    {
     "name": "stdout",
     "output_type": "stream",
     "text": [
      "Let's play guess the number !\n",
      "Higher\n",
      "Higher\n",
      "sorry,you are out of guesses. The number was  12\n"
     ]
    }
   ],
   "source": [
    "###to generate random number\n",
    "import random\n",
    "###print\n",
    "print(\"Let's play guess the number !\")\n",
    "###this loop will continue untill user want to quit \n",
    "while True :\n",
    "    ### 3 chance for guess\n",
    "    g=3\n",
    "    ###generate random integer between given range of 1 to 15\n",
    "    x=random.randrange(1,15,1)\n",
    "    ###if there are any chance of guess remaining then this loop will continue \n",
    "    while g>0 :\n",
    "        ###this loop will continue untill user gives valid input\n",
    "        while True:\n",
    "            y = input(\"Input a number between 1 and 15: \")\n",
    "            if y.isdigit() == False:\n",
    "                print(\"Please Enter A Number\")\n",
    "            elif int(y) < 1 or int(y) > 15:\n",
    "                print(\"Invalid input\")\n",
    "            else:\n",
    "                break\n",
    "        ###check if guess is same as generated random number or not\n",
    "        if y==x :\n",
    "            ##if guess is same as random number user win\n",
    "              print(\"congratulations , You win\")\n",
    "              break\n",
    "        else:\n",
    "            ##else decrement the guess chance\n",
    "            g=g-1\n",
    "        ###when all the guess exhausted it will print \"sorry,you are out of guesses\"\n",
    "        if g==0 :\n",
    "            print(\"sorry,you are out of guesses. The number was \", x)\n",
    "        else :\n",
    "            ##otherwise it will give hint\n",
    "            if int(y) <x :\n",
    "                print(\"Higher\")\n",
    "            elif int(y)>x :\n",
    "                print(\"Lower\")\n",
    "    ###check if user want to play game again or not\n",
    "    askuser=input(\"do you wish play again? Y/N : \")\n",
    "    if askuser=='Y' :\n",
    "        continue\n",
    "    elif askuser=='N':\n",
    "        break\n",
    "    else :\n",
    "        print(\"invalid input\")"
   ]
  }
 ],
 "metadata": {
  "kernelspec": {
   "display_name": "Python 3.9.7 64-bit",
   "language": "python",
   "name": "python3"
  },
  "language_info": {
   "codemirror_mode": {
    "name": "ipython",
    "version": 3
   },
   "file_extension": ".py",
   "mimetype": "text/x-python",
   "name": "python",
   "nbconvert_exporter": "python",
   "pygments_lexer": "ipython3",
   "version": "3.9.7"
  },
  "vscode": {
   "interpreter": {
    "hash": "cf92aa13fedf815d5c8dd192b8d835913fde3e8bc926b2a0ad6cc74ef2ba3ca2"
   }
  }
 },
 "nbformat": 4,
 "nbformat_minor": 5
}
